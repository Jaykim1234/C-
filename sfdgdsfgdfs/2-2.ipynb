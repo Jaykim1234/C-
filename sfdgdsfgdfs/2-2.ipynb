{
 "cells": [
  {
   "cell_type": "code",
   "execution_count": 2,
   "metadata": {},
   "outputs": [
    {
     "ename": "FileNotFoundError",
     "evalue": "[Errno 2] No such file or directory: '-f'",
     "output_type": "error",
     "traceback": [
      "\u001b[0;31m---------------------------------------------------------------------------\u001b[0m",
      "\u001b[0;31mFileNotFoundError\u001b[0m                         Traceback (most recent call last)",
      "Cell \u001b[0;32mIn[2], line 49\u001b[0m\n\u001b[1;32m     46\u001b[0m output_file_path \u001b[38;5;241m=\u001b[39m sys\u001b[38;5;241m.\u001b[39margv[\u001b[38;5;241m-\u001b[39m\u001b[38;5;241m1\u001b[39m]\n\u001b[1;32m     48\u001b[0m \u001b[38;5;66;03m# 정렬 및 병합\u001b[39;00m\n\u001b[0;32m---> 49\u001b[0m merged_result \u001b[38;5;241m=\u001b[39m \u001b[43mmerge_sorted_files\u001b[49m\u001b[43m(\u001b[49m\u001b[43minput_file_paths\u001b[49m\u001b[43m)\u001b[49m\n\u001b[1;32m     51\u001b[0m \u001b[38;5;66;03m# 결과 파일 작성\u001b[39;00m\n\u001b[1;32m     52\u001b[0m write_output_file(merged_result, output_file_path)\n",
      "Cell \u001b[0;32mIn[2], line 10\u001b[0m, in \u001b[0;36mmerge_sorted_files\u001b[0;34m(file_paths)\u001b[0m\n\u001b[1;32m      7\u001b[0m result \u001b[38;5;241m=\u001b[39m []\n\u001b[1;32m      9\u001b[0m \u001b[38;5;66;03m# 파일 인덱스와 파일 핸들을 함께 저장하기 위한 우선순위 큐\u001b[39;00m\n\u001b[0;32m---> 10\u001b[0m file_handles \u001b[38;5;241m=\u001b[39m \u001b[43m[\u001b[49m\u001b[43m(\u001b[49m\u001b[43mi\u001b[49m\u001b[43m,\u001b[49m\u001b[43m \u001b[49m\u001b[38;5;28;43mopen\u001b[39;49m\u001b[43m(\u001b[49m\u001b[43mfile\u001b[49m\u001b[43m,\u001b[49m\u001b[43m \u001b[49m\u001b[38;5;124;43m'\u001b[39;49m\u001b[38;5;124;43mr\u001b[39;49m\u001b[38;5;124;43m'\u001b[39;49m\u001b[43m)\u001b[49m\u001b[43m)\u001b[49m\u001b[43m \u001b[49m\u001b[38;5;28;43;01mfor\u001b[39;49;00m\u001b[43m \u001b[49m\u001b[43mi\u001b[49m\u001b[43m,\u001b[49m\u001b[43m \u001b[49m\u001b[43mfile\u001b[49m\u001b[43m \u001b[49m\u001b[38;5;129;43;01min\u001b[39;49;00m\u001b[43m \u001b[49m\u001b[38;5;28;43menumerate\u001b[39;49m\u001b[43m(\u001b[49m\u001b[43mfile_paths\u001b[49m\u001b[43m)\u001b[49m\u001b[43m]\u001b[49m\n\u001b[1;32m     12\u001b[0m \u001b[38;5;66;03m# 각 파일에서 첫 번째 라인을 읽어와 heap에 저장\u001b[39;00m\n\u001b[1;32m     13\u001b[0m \u001b[38;5;28;01mfor\u001b[39;00m i, handle \u001b[38;5;129;01min\u001b[39;00m file_handles:\n",
      "Cell \u001b[0;32mIn[2], line 10\u001b[0m, in \u001b[0;36m<listcomp>\u001b[0;34m(.0)\u001b[0m\n\u001b[1;32m      7\u001b[0m result \u001b[38;5;241m=\u001b[39m []\n\u001b[1;32m      9\u001b[0m \u001b[38;5;66;03m# 파일 인덱스와 파일 핸들을 함께 저장하기 위한 우선순위 큐\u001b[39;00m\n\u001b[0;32m---> 10\u001b[0m file_handles \u001b[38;5;241m=\u001b[39m [(i, \u001b[38;5;28;43mopen\u001b[39;49m\u001b[43m(\u001b[49m\u001b[43mfile\u001b[49m\u001b[43m,\u001b[49m\u001b[43m \u001b[49m\u001b[38;5;124;43m'\u001b[39;49m\u001b[38;5;124;43mr\u001b[39;49m\u001b[38;5;124;43m'\u001b[39;49m\u001b[43m)\u001b[49m) \u001b[38;5;28;01mfor\u001b[39;00m i, file \u001b[38;5;129;01min\u001b[39;00m \u001b[38;5;28menumerate\u001b[39m(file_paths)]\n\u001b[1;32m     12\u001b[0m \u001b[38;5;66;03m# 각 파일에서 첫 번째 라인을 읽어와 heap에 저장\u001b[39;00m\n\u001b[1;32m     13\u001b[0m \u001b[38;5;28;01mfor\u001b[39;00m i, handle \u001b[38;5;129;01min\u001b[39;00m file_handles:\n",
      "File \u001b[0;32m/opt/homebrew/lib/python3.11/site-packages/IPython/core/interactiveshell.py:284\u001b[0m, in \u001b[0;36m_modified_open\u001b[0;34m(file, *args, **kwargs)\u001b[0m\n\u001b[1;32m    <a href='file:///opt/homebrew/lib/python3.11/site-packages/IPython/core/interactiveshell.py?line=276'>277</a>\u001b[0m \u001b[39mif\u001b[39;00m file \u001b[39min\u001b[39;00m {\u001b[39m0\u001b[39m, \u001b[39m1\u001b[39m, \u001b[39m2\u001b[39m}:\n\u001b[1;32m    <a href='file:///opt/homebrew/lib/python3.11/site-packages/IPython/core/interactiveshell.py?line=277'>278</a>\u001b[0m     \u001b[39mraise\u001b[39;00m \u001b[39mValueError\u001b[39;00m(\n\u001b[1;32m    <a href='file:///opt/homebrew/lib/python3.11/site-packages/IPython/core/interactiveshell.py?line=278'>279</a>\u001b[0m         \u001b[39mf\u001b[39m\u001b[39m\"\u001b[39m\u001b[39mIPython won\u001b[39m\u001b[39m'\u001b[39m\u001b[39mt let you open fd=\u001b[39m\u001b[39m{\u001b[39;00mfile\u001b[39m}\u001b[39;00m\u001b[39m by default \u001b[39m\u001b[39m\"\u001b[39m\n\u001b[1;32m    <a href='file:///opt/homebrew/lib/python3.11/site-packages/IPython/core/interactiveshell.py?line=279'>280</a>\u001b[0m         \u001b[39m\"\u001b[39m\u001b[39mas it is likely to crash IPython. If you know what you are doing, \u001b[39m\u001b[39m\"\u001b[39m\n\u001b[1;32m    <a href='file:///opt/homebrew/lib/python3.11/site-packages/IPython/core/interactiveshell.py?line=280'>281</a>\u001b[0m         \u001b[39m\"\u001b[39m\u001b[39myou can use builtins\u001b[39m\u001b[39m'\u001b[39m\u001b[39m open.\u001b[39m\u001b[39m\"\u001b[39m\n\u001b[1;32m    <a href='file:///opt/homebrew/lib/python3.11/site-packages/IPython/core/interactiveshell.py?line=281'>282</a>\u001b[0m     )\n\u001b[0;32m--> <a href='file:///opt/homebrew/lib/python3.11/site-packages/IPython/core/interactiveshell.py?line=283'>284</a>\u001b[0m \u001b[39mreturn\u001b[39;00m io_open(file, \u001b[39m*\u001b[39;49margs, \u001b[39m*\u001b[39;49m\u001b[39m*\u001b[39;49mkwargs)\n",
      "\u001b[0;31mFileNotFoundError\u001b[0m: [Errno 2] No such file or directory: '-f'"
     ]
    }
   ],
   "source": [
    "import sys\n",
    "import heapq\n",
    "from itertools import count\n",
    "\n",
    "def merge_sorted_files(file_paths):\n",
    "    heap = []\n",
    "    result = []\n",
    "\n",
    "    # 파일 인덱스와 파일 핸들을 함께 저장하기 위한 우선순위 큐\n",
    "    file_handles = [(i, open(file, 'r')) for i, file in enumerate(file_paths)]\n",
    "\n",
    "    # 각 파일에서 첫 번째 라인을 읽어와 heap에 저장\n",
    "    for i, handle in file_handles:\n",
    "        line = handle.readline()\n",
    "        if line:\n",
    "            timestamp, price = map(int, line.strip().split(','))\n",
    "            heapq.heappush(heap, (timestamp, price, i, handle))\n",
    "\n",
    "    # 카운터를 사용하여 timestamp가 같을 때 파일 인덱스 순서대로 정렬\n",
    "    file_index_counter = count()\n",
    "\n",
    "    while heap:\n",
    "        timestamp, price, file_index, handle = heapq.heappop(heap)\n",
    "        result.append((timestamp, next(file_index_counter), price))\n",
    "\n",
    "        # 다음 라인을 heap에 추가\n",
    "        line = handle.readline()\n",
    "        if line:\n",
    "            next_timestamp, next_price = map(int, line.strip().split(','))\n",
    "            heapq.heappush(heap, (next_timestamp, next_price, file_index, handle))\n",
    "\n",
    "    # 파일 핸들 닫기\n",
    "    for _, handle in file_handles:\n",
    "        handle.close()\n",
    "\n",
    "    return result\n",
    "\n",
    "def write_output_file(result, output_file_path):\n",
    "    with open(output_file_path, 'w') as output_file:\n",
    "        for timestamp, file_index, price in result:\n",
    "            output_file.write(f\"{timestamp},{file_index},{price}\\n\")\n",
    "\n",
    "if __name__ == \"__main__\":\n",
    "    # Command Line Argument로 주어진 파일 경로들\n",
    "    input_file_paths = sys.argv[1:-1]\n",
    "    output_file_path = sys.argv[-1]\n",
    "\n",
    "    # 정렬 및 병합\n",
    "    merged_result = merge_sorted_files(input_file_paths)\n",
    "\n",
    "    # 결과 파일 작성\n",
    "    write_output_file(merged_result, output_file_path)\n"
   ]
  },
  {
   "cell_type": "code",
   "execution_count": 6,
   "metadata": {},
   "outputs": [],
   "source": [
    "import random\n",
    "import sys\n",
    "sys.path.append('/Users/jinhyun/Documents/GitHub/Cpp/Vaccum./2.2/')\n",
    "\n",
    "def generate_example_file(file_path, num_lines):\n",
    "    timestamps = sorted(random.sample(range(1625789000000, 1725790000000), num_lines))\n",
    "    prices = [random.randint(90, 120) for _ in range(num_lines)]\n",
    "\n",
    "    with open(file_path, 'w') as file:\n",
    "        for timestamp, price in zip(timestamps, prices):\n",
    "            file.write(f\"{timestamp},{price}\\n\")\n",
    "\n",
    "if __name__ == \"__main__\":\n",
    "    generate_example_file(\"input_file0.txt\", 10000)\n",
    "    generate_example_file(\"input_file1.txt\", 10000)\n",
    "    generate_example_file(\"input_file2.txt\", 10000)\n"
   ]
  }
 ],
 "metadata": {
  "interpreter": {
   "hash": "b0fa6594d8f4cbf19f97940f81e996739fb7646882a419484c72d19e05852a7e"
  },
  "kernelspec": {
   "display_name": "Python 3.11.7 64-bit",
   "language": "python",
   "name": "python3"
  },
  "language_info": {
   "codemirror_mode": {
    "name": "ipython",
    "version": 3
   },
   "file_extension": ".py",
   "mimetype": "text/x-python",
   "name": "python",
   "nbconvert_exporter": "python",
   "pygments_lexer": "ipython3",
   "version": "3.11.7"
  },
  "orig_nbformat": 4
 },
 "nbformat": 4,
 "nbformat_minor": 2
}
